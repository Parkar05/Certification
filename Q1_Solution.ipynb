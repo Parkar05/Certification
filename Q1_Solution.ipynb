{
 "cells": [
  {
   "cell_type": "code",
   "execution_count": null,
   "id": "d0a3080a",
   "metadata": {},
   "outputs": [],
   "source": [
    "# Importing libraries\n",
    "import tweepy\n",
    "import configparser\n",
    "import geocoder\n",
    "import os\n",
    "import json\n",
    "import sys\n",
    "import pandas as pd\n",
    "import numpy as np\n",
    "import matplotlib.pyplot as plt\n",
    "import seaborn as sns\n",
    "%matplotlib inline"
   ]
  },
  {
   "cell_type": "code",
   "execution_count": null,
   "id": "eebe5b08",
   "metadata": {},
   "outputs": [],
   "source": [
    "# installing libraries \n",
    "!pip install tweepy"
   ]
  },
  {
   "cell_type": "code",
   "execution_count": null,
   "id": "6db991be",
   "metadata": {},
   "outputs": [],
   "source": [
    "!pip install configparser\n",
    "!pip install geocoder\n"
   ]
  },
  {
   "cell_type": "code",
   "execution_count": null,
   "id": "257c354b",
   "metadata": {},
   "outputs": [],
   "source": [
    "# checking wheather libraries are installed or not\n",
    "pip install tweepy\n"
   ]
  },
  {
   "cell_type": "code",
   "execution_count": null,
   "id": "b2c86f0d",
   "metadata": {},
   "outputs": [],
   "source": [
    "pip install geocoder"
   ]
  },
  {
   "cell_type": "code",
   "execution_count": null,
   "id": "6247125f",
   "metadata": {},
   "outputs": [],
   "source": [
    "#set-up and authentication\n",
    "arrangement = configparser.ConfigParser()\n",
    "arrangement.read('arrangement.ini')\n",
    "\n",
    "key = arrangement['twitter']['key']\n",
    "key_secret = arrangement['twitter']['key_secret']\n",
    "\n",
    "token = arrangement['twitter']['token']\n",
    "token_secret = arrangement['twitter']['token_secret']\n",
    "\n",
    "# authentication\n",
    "auth = tweepy.OAuthHandler(key, key_secret)\n",
    "auth.set_access_token(token, token_secret)\n",
    "\n",
    "api = tweepy.API(auth)"
   ]
  },
  {
   "cell_type": "code",
   "execution_count": null,
   "id": "4ffb69c9",
   "metadata": {},
   "outputs": [],
   "source": [
    "available_loc = api.available_trends()\n",
    "\n",
    "#Opening the file and writing content in available.json file \n",
    "with open(\"available.json\",\"w\") as wp:\n",
    "    wp.write(json.dumps(available_loc, indent=1))\n",
    "loc = 'India'\n",
    "g = geocoder.osm(loc)\n",
    "\n",
    "closest_loc = api.closest_trends(g.lat, g.lng)\n",
    "trends = api.get_place_trends(closest_loc[0]['woeid'])\n",
    "with open(\"twitter_{}_trend.json\".format(loc),\"w\") as wp:\n",
    "    wp.write(json.dumps(trends, indent=1))"
   ]
  },
  {
   "cell_type": "code",
   "execution_count": null,
   "id": "8c5df7e9",
   "metadata": {},
   "outputs": [],
   "source": [
    "# Opening file and reading the content from it \n",
    "with open('trend.json','r') as f:\n",
    "    data=json.load(f)"
   ]
  },
  {
   "cell_type": "code",
   "execution_count": null,
   "id": "0a27fe1a",
   "metadata": {},
   "outputs": [],
   "source": [
    "# Creating data base df \n",
    "df=pd.DataFrame().from_records(data[0]['trends'])"
   ]
  },
  {
   "cell_type": "code",
   "execution_count": null,
   "id": "4c7c28f7",
   "metadata": {},
   "outputs": [],
   "source": [
    "# dropping column from dataset df \n",
    "df.drop(columns=['url','promoted_content','query'],axis=1,inplace=True)\n",
    "#Dropping null values\n",
    "df.dropna(axis=0,inplace=True)"
   ]
  },
  {
   "cell_type": "code",
   "execution_count": null,
   "id": "dafac5fc",
   "metadata": {},
   "outputs": [],
   "source": [
    "df.set_index('name',inplace=True)"
   ]
  },
  {
   "cell_type": "code",
   "execution_count": null,
   "id": "8b3915df",
   "metadata": {},
   "outputs": [],
   "source": [
    "# Getting head or first 5 value from dataset\n",
    "df.head()"
   ]
  },
  {
   "cell_type": "code",
   "execution_count": null,
   "id": "8cf172a2",
   "metadata": {},
   "outputs": [],
   "source": [
    "# sorting the value in ascending decending order and plotting first 10 values \n",
    "df.sort_values(by='tweet_volume',ascending=False).head(10).plot(kind='barh')"
   ]
  },
  {
   "cell_type": "code",
   "execution_count": null,
   "id": "4b863bc3",
   "metadata": {},
   "outputs": [],
   "source": []
  },
  {
   "cell_type": "code",
   "execution_count": null,
   "id": "aa825f23",
   "metadata": {},
   "outputs": [],
   "source": []
  }
 ],
 "metadata": {
  "kernelspec": {
   "display_name": "Python 3 (ipykernel)",
   "language": "python",
   "name": "python3"
  },
  "language_info": {
   "codemirror_mode": {
    "name": "ipython",
    "version": 3
   },
   "file_extension": ".py",
   "mimetype": "text/x-python",
   "name": "python",
   "nbconvert_exporter": "python",
   "pygments_lexer": "ipython3",
   "version": "3.9.13"
  },
  "varInspector": {
   "cols": {
    "lenName": 16,
    "lenType": 16,
    "lenVar": 40
   },
   "kernels_config": {
    "python": {
     "delete_cmd_postfix": "",
     "delete_cmd_prefix": "del ",
     "library": "var_list.py",
     "varRefreshCmd": "print(var_dic_list())"
    },
    "r": {
     "delete_cmd_postfix": ") ",
     "delete_cmd_prefix": "rm(",
     "library": "var_list.r",
     "varRefreshCmd": "cat(var_dic_list()) "
    }
   },
   "types_to_exclude": [
    "module",
    "function",
    "builtin_function_or_method",
    "instance",
    "_Feature"
   ],
   "window_display": false
  }
 },
 "nbformat": 4,
 "nbformat_minor": 5
}
